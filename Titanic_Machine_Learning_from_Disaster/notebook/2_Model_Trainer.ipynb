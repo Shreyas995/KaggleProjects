{
 "cells": [
  {
   "cell_type": "markdown",
   "metadata": {},
   "source": [
    "# **Model Trainer - Titanic (Machine Learning from Disaster)**\n",
    "\n",
    "### **Importing Libraries**"
   ]
  },
  {
   "cell_type": "code",
   "execution_count": 10,
   "metadata": {},
   "outputs": [],
   "source": [
    "import os\n",
    "import numpy as np\n",
    "import pandas as pd\n",
    "\n",
    "from dataclasses import dataclass\n",
    "\n",
    "from sklearn.impute import SimpleImputer\n",
    "from sklearn.preprocessing import OneHotEncoder"
   ]
  },
  {
   "cell_type": "markdown",
   "metadata": {},
   "source": [
    "### **Data Ingestion**"
   ]
  },
  {
   "cell_type": "code",
   "execution_count": 11,
   "metadata": {},
   "outputs": [],
   "source": [
    "@dataclass\n",
    "class DataIngestionConfig:\n",
    "    root_dir: str = os.path.abspath(os.path.join(os.getcwd(), '..'))  # Assuming the script is inside the notebook folder\n",
    "    artifacts_dir: str = os.path.join(root_dir, 'artifacts')\n",
    "    train_data_path: str=os.path.join(artifacts_dir,'train.csv')\n",
    "    test_data_path: str=os.path.join(artifacts_dir,'test.csv')\n",
    "\n",
    "class DataIngestion:\n",
    "    def __init__(self):\n",
    "        self.ingestion_config=DataIngestionConfig()\n",
    "\n",
    "    def initiate_data_ingestion(self):\n",
    "        try:\n",
    "            train_data=pd.read_csv('D:/Projects/KaggalProjects/Titanic_Machine_Learning_from_Disaster/notebook/train.csv')\n",
    "            test_data=pd.read_csv('D:/Projects/KaggalProjects/Titanic_Machine_Learning_from_Disaster/notebook/test.csv')\n",
    "\n",
    "            os.makedirs(self.ingestion_config.artifacts_dir,exist_ok=True)\n",
    "\n",
    "            train_data.to_csv(self.ingestion_config.train_data_path,index=False,header=True)\n",
    "            test_data.to_csv(self.ingestion_config.test_data_path,index=False,header=True)\n",
    "\n",
    "            return train_data,test_data\n",
    "\n",
    "        except Exception as e:\n",
    "            print('The error is: ',e)\n",
    "\n",
    "obj=DataIngestion()\n",
    "titanic_train_data,titanic_test_data=obj.initiate_data_ingestion()"
   ]
  },
  {
   "cell_type": "markdown",
   "metadata": {},
   "source": [
    "### **Data Cleaning and Transformation**"
   ]
  },
  {
   "cell_type": "code",
   "execution_count": 12,
   "metadata": {},
   "outputs": [],
   "source": [
    "class DataTransformation:\n",
    "    def data_imputing(self,train_data,test_data):\n",
    "        '''\n",
    "        This function is used to impute the missing values.\n",
    "        - In the training data, the Embarked column has two missing values and will be replaced with the most occuring embarked value.\n",
    "        - There is one missing value in Fare column of test data and will be replaced with the mode of the respective pClass.\n",
    "        - There are some missing values in Age feature of both training and testing and will be replaced with the mean of the Age column.\n",
    "        '''\n",
    "        try:\n",
    "            imputer=SimpleImputer(strategy='mean')\n",
    "            \n",
    "            #----------------------------------------------------------------------------------------------------------------------------------------\n",
    "                                                                    #Training Part\n",
    "            #----------------------------------------------------------------------------------------------------------------------------------------\n",
    "\n",
    "            mode_value = train_data['Embarked'].mode()[0]  # Calculate the mode of the column\n",
    "            train_data['Embarked'].fillna(mode_value, inplace=True) \n",
    "            train_data['Age']=imputer.fit_transform(train_data[['Age']])\n",
    "            \n",
    "            #----------------------------------------------------------------------------------------------------------------------------------------\n",
    "                                                                    #Testing Part\n",
    "            #----------------------------------------------------------------------------------------------------------------------------------------\n",
    "            \n",
    "            missing_index = test_data['Fare'].isnull()\n",
    "            for idx in test_data[missing_index].index:\n",
    "                pclass_value = test_data.loc[idx, 'Pclass']\n",
    "                mode_fare = test_data[test_data['Pclass'] == pclass_value]['Fare'].mode()[0]\n",
    "                test_data.loc[idx, 'Fare'] = mode_fare\n",
    "            \n",
    "            test_data['Age']=imputer.fit_transform(test_data[['Age']])\n",
    "\n",
    "            return train_data,test_data\n",
    "        \n",
    "        except Exception as e:\n",
    "            print('The error is: ',e)\n",
    "    \n",
    "    def feature_encoder(self,train_data,test_data):\n",
    "        '''\n",
    "        This function is used to give OneHotEncoder values to categorical columns.\n",
    "        - Categorical columns like Embarked and Sex are encoded using OneHotEncoder.\n",
    "        '''\n",
    "        try:\n",
    "            encoder=OneHotEncoder(sparse_output=False)\n",
    "\n",
    "            #----------------------------------------------------------------------------------------------------------------------------------------\n",
    "                                                                    #Training Part\n",
    "            #----------------------------------------------------------------------------------------------------------------------------------------\n",
    "            \n",
    "            encoded_embarked_train=encoder.fit_transform(train_data[[\"Embarked\"]])\n",
    "            encoded_col_names = ['Embarked_' + str(cat) for cat in encoder.categories_[0]]\n",
    "            encoded_embarked_df_train = pd.DataFrame(encoded_embarked_train,columns=encoded_col_names,index=train_data.index)\n",
    "            train_data = train_data.join(encoded_embarked_df_train)\n",
    "\n",
    "            encoded_sex_train=encoder.fit_transform(train_data[[\"Sex\"]])\n",
    "            encoded_col_names = ['Sex_' + str(cat) for cat in encoder.categories_[0]]\n",
    "            encoded_sex_df_train = pd.DataFrame(encoded_sex_train,columns=encoded_col_names,index=train_data.index)\n",
    "            train_data = train_data.join(encoded_sex_df_train)\n",
    "            \n",
    "            #----------------------------------------------------------------------------------------------------------------------------------------\n",
    "                                                                    #Testing Part\n",
    "            #----------------------------------------------------------------------------------------------------------------------------------------\n",
    "\n",
    "            encoded_embarked_test=encoder.fit_transform(test_data[[\"Embarked\"]])\n",
    "            encoded_col_names = ['Embarked_' + str(cat) for cat in encoder.categories_[0]]\n",
    "            encoded_embarked_df_test = pd.DataFrame(encoded_embarked_test,columns=encoded_col_names,index=test_data.index)\n",
    "            test_data = test_data.join(encoded_embarked_df_test)\n",
    "\n",
    "            encoded_sex_test=encoder.fit_transform(test_data[[\"Sex\"]])\n",
    "            encoded_col_names = ['Sex_' + str(cat) for cat in encoder.categories_[0]]\n",
    "            encoded_sex_df_test = pd.DataFrame(encoded_sex_test,columns=encoded_col_names,index=test_data.index)\n",
    "            test_data = test_data.join(encoded_sex_df_test)\n",
    "\n",
    "            return train_data,test_data\n",
    "        \n",
    "        except Exception as e:\n",
    "            print('The error is: ',e)\n",
    "    \n",
    "    def feature_dropper(self,train_data,test_data):\n",
    "        '''\n",
    "        This function is used to drop few features from the dataframe.\n",
    "        - Features like Name, Sex, Cabin, Embarked, Ticket are dropped from the dataframe.\n",
    "        '''\n",
    "        try:\n",
    "            #----------------------------------------------------------------------------------------------------------------------------------------\n",
    "                                                                    #Training Part\n",
    "            #----------------------------------------------------------------------------------------------------------------------------------------\n",
    "\n",
    "            train_data=train_data.drop([\"Name\", \"Sex\", \"Cabin\", \"Embarked\", \"Ticket\"],axis=1)\n",
    "\n",
    "            #----------------------------------------------------------------------------------------------------------------------------------------\n",
    "                                                                    #Testing Part\n",
    "            #----------------------------------------------------------------------------------------------------------------------------------------\n",
    "\n",
    "            test_data=test_data.drop([\"Name\", \"Sex\", \"Cabin\", \"Embarked\", \"Ticket\"],axis=1)\n",
    "\n",
    "            return train_data,test_data\n",
    "        \n",
    "        except Exception as e:\n",
    "            print('The error is: ',e)\n"
   ]
  },
  {
   "cell_type": "code",
   "execution_count": 13,
   "metadata": {},
   "outputs": [
    {
     "name": "stderr",
     "output_type": "stream",
     "text": [
      "C:\\Users\\smits\\AppData\\Local\\Temp\\ipykernel_7972\\3980041738.py:15: FutureWarning: A value is trying to be set on a copy of a DataFrame or Series through chained assignment using an inplace method.\n",
      "The behavior will change in pandas 3.0. This inplace method will never work because the intermediate object on which we are setting values always behaves as a copy.\n",
      "\n",
      "For example, when doing 'df[col].method(value, inplace=True)', try using 'df.method({col: value}, inplace=True)' or df[col] = df[col].method(value) instead, to perform the operation inplace on the original object.\n",
      "\n",
      "\n",
      "  train_data['Embarked'].fillna(mode_value, inplace=True)\n"
     ]
    }
   ],
   "source": [
    "data_impute=DataTransformation()\n",
    "impute_train_data,impute_test_data=data_impute.data_imputing(titanic_train_data,titanic_test_data)\n",
    "encoded_train_data,encoded_test_data=data_impute.feature_encoder(impute_train_data,impute_test_data)\n",
    "train_data,test_data=data_impute.feature_dropper(encoded_train_data,encoded_test_data)\n"
   ]
  },
  {
   "cell_type": "markdown",
   "metadata": {},
   "source": [
    "### **Utilities**"
   ]
  },
  {
   "cell_type": "code",
   "execution_count": null,
   "metadata": {},
   "outputs": [],
   "source": [
    "def evaluate_models(xtrain,ytrain,xtest,ytest,models):\n",
    "    try:\n",
    "        report = {}\n",
    "        for i in range(len(models)):\n",
    "            model = list(models.values())[i]\n",
    "            # Train model\n",
    "            model.fit(xtrain,ytrain)\n",
    "\n",
    "            # Predict Training data\n",
    "            y_train_pred = model.predict(xtrain)\n",
    "\n",
    "            # Predict Testing data\n",
    "            y_test_pred =model.predict(xtest)\n",
    "\n",
    "            # Get R2 scores for train and test data\n",
    "            train_model_score = r2_score(ytrain,y_train_pred)\n",
    "            test_model_score = r2_score(ytest,y_test_pred)\n",
    "\n",
    "            report[list(models.keys())[i]] =  test_model_score\n",
    "\n",
    "        return report\n",
    "\n",
    "    except Exception as e:\n",
    "        logging.info('Exception occured during model training')\n",
    "        raise CustomException(e,sys)"
   ]
  }
 ],
 "metadata": {
  "kernelspec": {
   "display_name": "titanicvenv",
   "language": "python",
   "name": "python3"
  },
  "language_info": {
   "codemirror_mode": {
    "name": "ipython",
    "version": 3
   },
   "file_extension": ".py",
   "mimetype": "text/x-python",
   "name": "python",
   "nbconvert_exporter": "python",
   "pygments_lexer": "ipython3",
   "version": "3.12.4"
  }
 },
 "nbformat": 4,
 "nbformat_minor": 2
}
